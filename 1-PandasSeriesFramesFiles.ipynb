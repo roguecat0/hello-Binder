{
 "cells": [
  {
   "cell_type": "markdown",
   "id": "0ea8f7c5-ca5b-40b7-aec1-ce6ee9907baf",
   "metadata": {
    "cell_style": "center"
   },
   "source": [
    "# Introduction"
   ]
  },
  {
   "cell_type": "markdown",
   "id": "1810755f-7aac-4f87-8972-f132f7dca209",
   "metadata": {},
   "source": [
    "[Pandas](https://pandas.pydata.org/ \"Pandas\") is a Python library for analyzing, cleaning, processing and manipulating data.\n",
    "\n",
    "Pandas stands for both PANel DAta and PANel Data AnalysiS."
   ]
  },
  {
   "cell_type": "markdown",
   "id": "3f863943",
   "metadata": {},
   "source": [
    "|English|Nederlands|\n",
    "|:-|:-|\n",
    "|[Pandas](https://pandas.pydata.org/ \"Pandas\") is a Python library for analyzing, cleaning, processing and manipulating data.|[Pandas](https://pandas.pydata.org/ \"Pandas\") is een Python-biblitheek om data te analyseren, op te schonen, verwerken en manipuleren.|\n",
    "|Pandas stands for both PANel DAta and PANel Data AnalysiS.|Pandas staat voor zowel PANel DAta (panel-gegevens) en PANel Data AnalysiS (panel-gegevensanalyse).|\n"
   ]
  },
  {
   "cell_type": "markdown",
   "id": "2d2bf6c1",
   "metadata": {},
   "source": [
    "[Pandas](https://pandas.pydata.org/ \"Pandas\") is a Python library for analyzing, cleaning, processing and manipulating data.\n",
    "\n",
    "Pandas stands for both PANel DAta and PANel Data AnalysiS.\n",
    "\n",
    "<span style=\"color:blue\">[Pandas](https://pandas.pydata.org/ \"Pandas\") is een Python-biblitheek om data te analyseren, opschonen, verwerken en manipuleren<br><br>Pandas staat voor zowel PANel DAta (panel-gegevens) en PANel Data AnalysiS (panel-gegevensanalyse).</span>"
   ]
  },
  {
   "cell_type": "markdown",
   "id": "53079f44",
   "metadata": {},
   "source": [
    "<!-- Data Structure outline -->\n",
    "\n",
    "Pandas have three data structures based on [NumPy](https://numpy.org/ \"NumPy\") data structures:\n",
    "\n",
    "* Series\n",
    "* DataFrame\n",
    "* Panel (not meant to be covered in this course)\n"
   ]
  },
  {
   "cell_type": "markdown",
   "id": "23c69f61-b452-45a7-bb3e-bd8e9e7b72dd",
   "metadata": {},
   "source": [
    "## Series\n",
    "\n",
    "Series is a 1D array with homogeneous data, like a column of a table.\n"
   ]
  },
  {
   "cell_type": "markdown",
   "id": "d3b676e4-fe46-49ad-8ba8-74cf1f3d6a23",
   "metadata": {
    "tags": []
   },
   "source": [
    "We can create an empty series:"
   ]
  },
  {
   "cell_type": "code",
   "execution_count": 2,
   "id": "ab4aa384-75bf-4c2a-9331-d6a1cc298fba",
   "metadata": {},
   "outputs": [
    {
     "name": "stderr",
     "output_type": "stream",
     "text": [
      "/tmp/ipykernel_250889/304296951.py:5: FutureWarning: The default dtype for empty Series will be 'object' instead of 'float64' in a future version. Specify a dtype explicitly to silence this warning.\n",
      "  s = pd.Series()\n"
     ]
    }
   ],
   "source": [
    "# import the pandas library & alias as pd\n",
    "import pandas as pd\n",
    "\n",
    "# create an empty series\n",
    "s = pd.Series()"
   ]
  },
  {
   "cell_type": "markdown",
   "id": "6ae4edc6-6c63-4c99-8050-2705a298a170",
   "metadata": {
    "tags": []
   },
   "source": [
    "We can initiate a series:"
   ]
  },
  {
   "cell_type": "code",
   "execution_count": 3,
   "id": "88ead9ff-e575-48cc-84cd-71ae8f16cd98",
   "metadata": {},
   "outputs": [
    {
     "name": "stdout",
     "output_type": "stream",
     "text": [
      "0    12\n",
      "1    17\n",
      "2    20\n",
      "3    13\n",
      "4    19\n",
      "5    14\n",
      "6    16\n",
      "dtype: int64\n"
     ]
    }
   ],
   "source": [
    "import pandas as pd\n",
    "\n",
    "# create a list of grades\n",
    "grades = [12, 17, 20, 13, 19, 14, 16]\n",
    "\n",
    "# create a series based on the list of grades\n",
    "s = pd.Series(grades)\n",
    "\n",
    "# print the series\n",
    "print(s)"
   ]
  },
  {
   "cell_type": "markdown",
   "id": "3c731fd1-d217-4da3-87ca-1441374e6fc9",
   "metadata": {},
   "source": [
    "## access a series\n",
    "\n",
    "We can access a series (i) by index or (ii) by label\n",
    "\n",
    "### (i) access by index\n",
    "\n",
    "We can access an item of a Series referring to its position.\n",
    "\n",
    "Remember that the first element is at position 0."
   ]
  },
  {
   "cell_type": "code",
   "execution_count": 4,
   "id": "6b35aaf4-03e5-45c7-9e08-6ef86baf21ef",
   "metadata": {},
   "outputs": [
    {
     "name": "stdout",
     "output_type": "stream",
     "text": [
      "12\n"
     ]
    }
   ],
   "source": [
    "# access the 1st element\n",
    "first = s[0]\n",
    "\n",
    "# print the first element\n",
    "print(first)\n"
   ]
  },
  {
   "cell_type": "code",
   "execution_count": 5,
   "id": "a313ac92-8371-44e4-8b4b-bbef8ab47b60",
   "metadata": {},
   "outputs": [
    {
     "name": "stdout",
     "output_type": "stream",
     "text": [
      "13\n"
     ]
    }
   ],
   "source": [
    "# access a random element\n",
    "random = s[3]\n",
    "\n",
    "# print his element\n",
    "print(random)"
   ]
  },
  {
   "cell_type": "markdown",
   "id": "7bd4e662-2231-4cd0-b068-8fd5b00e3af7",
   "metadata": {},
   "source": [
    "We can access the first few elements:"
   ]
  },
  {
   "cell_type": "code",
   "execution_count": 6,
   "id": "334ef2df-0d42-4734-b04b-810363f85af5",
   "metadata": {},
   "outputs": [
    {
     "name": "stdout",
     "output_type": "stream",
     "text": [
      "0    12\n",
      "1    17\n",
      "2    20\n",
      "dtype: int64\n"
     ]
    }
   ],
   "source": [
    "# access the first three elements\n",
    "first_few = s[:3]\n",
    "\n",
    "# print the first three elements \n",
    "print(first_few)"
   ]
  },
  {
   "cell_type": "markdown",
   "id": "86a6295e-1a16-41b9-b525-56ecb0d6d846",
   "metadata": {},
   "source": [
    "We can access the last few elements:"
   ]
  },
  {
   "cell_type": "code",
   "execution_count": 7,
   "id": "857fcd2b-2c5d-44a2-9e42-8ddfef10c576",
   "metadata": {},
   "outputs": [
    {
     "name": "stdout",
     "output_type": "stream",
     "text": [
      "4    19\n",
      "5    14\n",
      "6    16\n",
      "dtype: int64\n"
     ]
    }
   ],
   "source": [
    "# access the last three elements\n",
    "last_few = s[-3:]\n",
    "\n",
    "# print the last three elements\n",
    "print(last_few)"
   ]
  },
  {
   "cell_type": "markdown",
   "id": "f8cc8b48-0e36-4706-bc3e-d4799a1c6966",
   "metadata": {},
   "source": [
    "### (ii) access by label\n",
    "\n",
    "We can create series with labels and access an item referring to the label.\n",
    "\n",
    "We can access one item by referring to its label:"
   ]
  },
  {
   "cell_type": "code",
   "execution_count": 8,
   "id": "5aa7425a-cd83-4ea5-b8db-a50111384f80",
   "metadata": {},
   "outputs": [
    {
     "name": "stdout",
     "output_type": "stream",
     "text": [
      "12\n"
     ]
    }
   ],
   "source": [
    "# create a series with labels \n",
    "my_var = pd.Series(grades, index=[\"a\", \"b\", \"c\", \"d\", \"e\", \"f\", \"g\"])\n",
    "\n",
    "# access a series by label \n",
    "item = my_var[\"a\"]\n",
    "\n",
    "# print the item that was accessed by label\n",
    "print(item)"
   ]
  },
  {
   "cell_type": "markdown",
   "id": "dfea4a95-a475-43ab-961c-fd8527c7f157",
   "metadata": {},
   "source": [
    "We can access multiple items referring to a list of index labels: "
   ]
  },
  {
   "cell_type": "code",
   "execution_count": 9,
   "id": "4f7ed176-79e2-41fb-aa58-f672e63f28b5",
   "metadata": {},
   "outputs": [
    {
     "name": "stdout",
     "output_type": "stream",
     "text": [
      "a    12\n",
      "c    20\n",
      "f    14\n",
      "dtype: int64\n"
     ]
    }
   ],
   "source": [
    "# access multiple items \n",
    "items = my_var[[\"a\",\"c\",\"f\"]]\n",
    "\n",
    "# print multiple items\n",
    "print(items)"
   ]
  },
  {
   "cell_type": "markdown",
   "id": "282eaee8-bcb1-4c7c-8f1a-772d2f787948",
   "metadata": {},
   "source": [
    "## DataFrame\n",
    "\n",
    "DataFrame is a 2D data structure, like table with rows and columns.\n",
    "\n",
    "DataFrame is a container of Series, while Panel is a container of DataFrame.\n",
    "\n",
    "### create a DataFrame\n",
    "\n",
    "We can create (i) an empty DataFrame, (ii) a DataFrame from lists or (iii) from series.\n"
   ]
  },
  {
   "cell_type": "markdown",
   "id": "f1eb67db-f6be-4088-88a1-34ab0707e1f5",
   "metadata": {},
   "source": [
    "#### (i) create an empty DataFrame\n",
    "\n",
    "We can create an empty DataFrame:"
   ]
  },
  {
   "cell_type": "code",
   "execution_count": 10,
   "id": "32230353-db8c-4d87-a3c0-5d9c5cf973ad",
   "metadata": {},
   "outputs": [],
   "source": [
    "# create an empty DataFrame\n",
    "df = pd.DataFrame()"
   ]
  },
  {
   "cell_type": "markdown",
   "id": "dde476d6-2b68-423a-86ee-a35028795e6c",
   "metadata": {},
   "source": [
    "#### (ii) create DataFrames from lists\n",
    "\n",
    "We can create a DataFrame from an existing or new list:"
   ]
  },
  {
   "cell_type": "code",
   "execution_count": 11,
   "id": "997b0cdc-cd96-46e1-aec5-e93c0ea0c86b",
   "metadata": {},
   "outputs": [
    {
     "name": "stdout",
     "output_type": "stream",
     "text": [
      "    0\n",
      "0  12\n",
      "1  17\n",
      "2  20\n",
      "3  13\n",
      "4  19\n",
      "5  14\n",
      "6  16\n"
     ]
    }
   ],
   "source": [
    "# create a DataFrame from an existing list\n",
    "df = pd.DataFrame(grades)\n",
    "\n",
    "print(df)"
   ]
  },
  {
   "cell_type": "code",
   "execution_count": 12,
   "id": "962c130d-1574-4e47-9afa-575e269e8de5",
   "metadata": {},
   "outputs": [
    {
     "name": "stdout",
     "output_type": "stream",
     "text": [
      "        0\n",
      "Bob    12\n",
      "Alice  17\n",
      "Carol  20\n",
      "David  13\n",
      "Frank  19\n",
      "Grace  14\n",
      "Oscar  16\n"
     ]
    }
   ],
   "source": [
    "# create a list\n",
    "students = [\"Bob\", \"Alice\", \"Carol\", \"David\", \"Frank\", \"Grace\", \"Oscar\"]\n",
    "\n",
    "# load lists into a DataFrame\n",
    "df = pd.DataFrame(grades, students)\n",
    "\n",
    "print(df)"
   ]
  },
  {
   "cell_type": "markdown",
   "id": "989b2f6e-da71-4cee-889a-1ff4420b29d0",
   "metadata": {},
   "source": [
    "#### (iii) create DataFrames from Series\n",
    "\n",
    "We can create a DataFrame from an existing or new Series:"
   ]
  },
  {
   "cell_type": "code",
   "execution_count": 13,
   "id": "95a4df7a-57f2-4456-bf36-914588744287",
   "metadata": {},
   "outputs": [
    {
     "name": "stdout",
     "output_type": "stream",
     "text": [
      "  students  grades\n",
      "0      Bob      12\n",
      "1    Alice      17\n",
      "2    Carol      20\n",
      "3    David      12\n",
      "4    Frank      19\n",
      "5    Grace      14\n",
      "6    Oscar      16\n"
     ]
    }
   ],
   "source": [
    "# create data based on series\n",
    "data = {\n",
    "  \"students\": [\"Bob\", \"Alice\", \"Carol\", \"David\", \"Frank\", \"Grace\", \"Oscar\"],\n",
    "  \"grades\": [12, 17, 20, 12, 19, 14, 16],\n",
    "}\n",
    "\n",
    "# load data into a DataFrame\n",
    "df = pd.DataFrame(data)\n",
    "\n",
    "print(df)"
   ]
  },
  {
   "cell_type": "markdown",
   "id": "1dfeb9ca-76f8-4ea5-9358-d364a21d66a7",
   "metadata": {
    "tags": []
   },
   "source": [
    "### access a DataFrame\n",
    "\n",
    "#### (i) access one or more rows\n",
    "\n",
    "We can access a specific row:"
   ]
  },
  {
   "cell_type": "code",
   "execution_count": 14,
   "id": "51baf5ab-0acd-4d40-a4ca-4f3fc76d09da",
   "metadata": {},
   "outputs": [
    {
     "name": "stdout",
     "output_type": "stream",
     "text": [
      "students    Bob\n",
      "grades       12\n",
      "Name: 0, dtype: object\n",
      "\n",
      "students    David\n",
      "grades         12\n",
      "Name: 3, dtype: object\n"
     ]
    }
   ],
   "source": [
    "# access the 1st row by referring to the row index\n",
    "first = df.loc[0]\n",
    "print(first)\n",
    "\n",
    "print()\n",
    "\n",
    "# access the 4th row by referring to the row index\n",
    "fourth = df.loc[3]\n",
    "print(fourth)"
   ]
  },
  {
   "cell_type": "markdown",
   "id": "d3535fec-b04d-42eb-b9e5-ed3d17cf31e0",
   "metadata": {},
   "source": [
    "This returns a Series."
   ]
  },
  {
   "cell_type": "markdown",
   "id": "effcd3b0-eac0-43da-99bd-6a82efa15c5e",
   "metadata": {},
   "source": [
    "We can access more rows by using a list of indexes:"
   ]
  },
  {
   "cell_type": "code",
   "execution_count": 15,
   "id": "34abf0ae-b75b-4f68-aeaf-fd3ce39a8d69",
   "metadata": {},
   "outputs": [
    {
     "name": "stdout",
     "output_type": "stream",
     "text": [
      "  students  grades\n",
      "4    Frank      19\n",
      "5    Grace      14\n",
      "\n",
      "  students  grades\n",
      "4    Frank      19\n",
      "5    Grace      14\n"
     ]
    }
   ],
   "source": [
    "# access the 5th and 6th row by referring to the row index\n",
    "indexes_list = [4,5]\n",
    "rows = df.loc[indexes_list]\n",
    "print(rows)\n",
    "\n",
    "print()\n",
    "\n",
    "# directly define the list of indexes in loc\n",
    "rows = df.loc[[4,5]]\n",
    "print(rows)"
   ]
  },
  {
   "cell_type": "markdown",
   "id": "b1dc3a89-d88c-4109-85d3-ebe0732ad0e2",
   "metadata": {},
   "source": [
    "This returns a DataFrame."
   ]
  },
  {
   "cell_type": "markdown",
   "id": "cb3bb901",
   "metadata": {},
   "source": [
    "Access the grades that are higher than a certain value"
   ]
  },
  {
   "cell_type": "code",
   "execution_count": 16,
   "id": "cef4e67b",
   "metadata": {},
   "outputs": [
    {
     "name": "stdout",
     "output_type": "stream",
     "text": [
      "  students  grades\n",
      "1    Alice      17\n",
      "2    Carol      20\n",
      "4    Frank      19\n",
      "6    Oscar      16\n"
     ]
    }
   ],
   "source": [
    "print(df.loc[df[\"grades\"] > 15])"
   ]
  },
  {
   "cell_type": "code",
   "execution_count": 17,
   "id": "5905822a",
   "metadata": {
    "scrolled": true
   },
   "outputs": [
    {
     "name": "stdout",
     "output_type": "stream",
     "text": [
      "  students  grades\n",
      "1    Alice      17\n",
      "2    Carol      20\n",
      "4    Frank      19\n",
      "6    Oscar      16\n"
     ]
    }
   ],
   "source": [
    "print(df[df[\"grades\"] > 15 ]) "
   ]
  },
  {
   "cell_type": "markdown",
   "id": "d4949494-2cde-4000-9a31-ba54e3fb702e",
   "metadata": {},
   "source": [
    "#### (ii) access a named index\n",
    "\n",
    "We can name our custom indexes with the `index` argument"
   ]
  },
  {
   "cell_type": "code",
   "execution_count": 18,
   "id": "ab571200-5d98-4f7d-8e23-3fcecafb0e14",
   "metadata": {},
   "outputs": [
    {
     "name": "stdout",
     "output_type": "stream",
     "text": [
      "         students  grades\n",
      "student1      Bob      12\n",
      "student2    Alice      17\n",
      "student3    Carol      20\n",
      "student4    David      12\n",
      "student5    Frank      19\n",
      "student6    Grace      14\n",
      "student7    Oscar      16\n"
     ]
    }
   ],
   "source": [
    "# index list \n",
    "index = [\"student1\", \"student2\", \"student3\", \"student4\", \"student5\", \"student6\", \"student7\"]\n",
    "\n",
    "# add named index labels into a DataFrame\n",
    "df = pd.DataFrame(data, index)\n",
    "\n",
    "print(df)"
   ]
  },
  {
   "cell_type": "markdown",
   "id": "483840bc-76db-4df3-956c-a7f3dae7ac7e",
   "metadata": {},
   "source": [
    "We can specify the named index in the loc attribute to return the specified row(s):"
   ]
  },
  {
   "cell_type": "code",
   "execution_count": 19,
   "id": "80e952b0-6326-4c09-9be2-2564647dc141",
   "metadata": {
    "scrolled": true,
    "tags": []
   },
   "outputs": [
    {
     "name": "stdout",
     "output_type": "stream",
     "text": [
      "students    David\n",
      "grades         12\n",
      "Name: student4, dtype: object\n"
     ]
    }
   ],
   "source": [
    "#refer to a named index:\n",
    "row = df.loc[\"student4\"]\n",
    "\n",
    "print(row)"
   ]
  },
  {
   "cell_type": "markdown",
   "id": "ed483abc-21bb-4f1d-8d28-87d254d05a02",
   "metadata": {},
   "source": [
    "### group data in a Data Frame"
   ]
  },
  {
   "cell_type": "code",
   "execution_count": 20,
   "id": "df4282d4-5a9f-4b4e-8a69-dbaaed759b4e",
   "metadata": {},
   "outputs": [],
   "source": [
    "df_grouped = df.groupby(\"grades\")"
   ]
  },
  {
   "cell_type": "markdown",
   "id": "3192cbbc-5656-4248-8b0f-5b0e00518aeb",
   "metadata": {},
   "source": [
    "retrieve the first group *"
   ]
  },
  {
   "cell_type": "code",
   "execution_count": 21,
   "id": "3dc511ce-3c46-443d-aef2-e530e63f96cc",
   "metadata": {},
   "outputs": [
    {
     "data": {
      "text/html": [
       "<div>\n",
       "<style scoped>\n",
       "    .dataframe tbody tr th:only-of-type {\n",
       "        vertical-align: middle;\n",
       "    }\n",
       "\n",
       "    .dataframe tbody tr th {\n",
       "        vertical-align: top;\n",
       "    }\n",
       "\n",
       "    .dataframe thead th {\n",
       "        text-align: right;\n",
       "    }\n",
       "</style>\n",
       "<table border=\"1\" class=\"dataframe\">\n",
       "  <thead>\n",
       "    <tr style=\"text-align: right;\">\n",
       "      <th></th>\n",
       "      <th>students</th>\n",
       "    </tr>\n",
       "    <tr>\n",
       "      <th>grades</th>\n",
       "      <th></th>\n",
       "    </tr>\n",
       "  </thead>\n",
       "  <tbody>\n",
       "    <tr>\n",
       "      <th>12</th>\n",
       "      <td>Bob</td>\n",
       "    </tr>\n",
       "    <tr>\n",
       "      <th>14</th>\n",
       "      <td>Grace</td>\n",
       "    </tr>\n",
       "    <tr>\n",
       "      <th>16</th>\n",
       "      <td>Oscar</td>\n",
       "    </tr>\n",
       "    <tr>\n",
       "      <th>17</th>\n",
       "      <td>Alice</td>\n",
       "    </tr>\n",
       "    <tr>\n",
       "      <th>19</th>\n",
       "      <td>Frank</td>\n",
       "    </tr>\n",
       "    <tr>\n",
       "      <th>20</th>\n",
       "      <td>Carol</td>\n",
       "    </tr>\n",
       "  </tbody>\n",
       "</table>\n",
       "</div>"
      ],
      "text/plain": [
       "       students\n",
       "grades         \n",
       "12          Bob\n",
       "14        Grace\n",
       "16        Oscar\n",
       "17        Alice\n",
       "19        Frank\n",
       "20        Carol"
      ]
     },
     "execution_count": 21,
     "metadata": {},
     "output_type": "execute_result"
    }
   ],
   "source": [
    "df_grouped.first()"
   ]
  },
  {
   "cell_type": "code",
   "execution_count": 22,
   "id": "f4350b2f-409f-47e6-a199-7279e9e8cf55",
   "metadata": {},
   "outputs": [
    {
     "data": {
      "text/plain": [
       "students\n",
       "Alice    1\n",
       "Bob      1\n",
       "Carol    1\n",
       "David    1\n",
       "Frank    1\n",
       "Grace    1\n",
       "Oscar    1\n",
       "Name: grades, dtype: int64"
      ]
     },
     "execution_count": 22,
     "metadata": {},
     "output_type": "execute_result"
    }
   ],
   "source": [
    "df.groupby([\"students\"])[\"grades\"].count()"
   ]
  },
  {
   "cell_type": "code",
   "execution_count": 23,
   "id": "7e76ffba-a771-4011-b6d0-6ee6171dd09d",
   "metadata": {},
   "outputs": [
    {
     "data": {
      "text/plain": [
       "grades\n",
       "12    2\n",
       "14    1\n",
       "16    1\n",
       "17    1\n",
       "19    1\n",
       "20    1\n",
       "Name: students, dtype: int64"
      ]
     },
     "execution_count": 23,
     "metadata": {},
     "output_type": "execute_result"
    }
   ],
   "source": [
    "df.groupby([\"grades\"])[\"students\"].count()"
   ]
  },
  {
   "cell_type": "code",
   "execution_count": 24,
   "id": "9c67c254-b974-4311-ad50-a78c9ef667bf",
   "metadata": {},
   "outputs": [
    {
     "data": {
      "text/plain": [
       "grades\n",
       "12    2\n",
       "14    1\n",
       "16    1\n",
       "17    1\n",
       "19    1\n",
       "20    1\n",
       "Name: grades, dtype: int64"
      ]
     },
     "execution_count": 24,
     "metadata": {},
     "output_type": "execute_result"
    }
   ],
   "source": [
    "df.groupby([\"grades\"])[\"grades\"].count()"
   ]
  },
  {
   "cell_type": "markdown",
   "id": "55cbab98-344b-42e2-acbe-93ea3a92bc60",
   "metadata": {},
   "source": [
    "# DataFrames & Files"
   ]
  },
  {
   "cell_type": "markdown",
   "id": "dabb8a08-2e8f-4946-85cb-9bb948839009",
   "metadata": {},
   "source": [
    "We can load data into a DataFrame from a file: *"
   ]
  },
  {
   "cell_type": "code",
   "execution_count": 25,
   "id": "0f283613-4808-48ac-b33c-738f8c303eaf",
   "metadata": {},
   "outputs": [
    {
     "ename": "FileNotFoundError",
     "evalue": "[Errno 2] No such file or directory: 'grades.csv'",
     "output_type": "error",
     "traceback": [
      "\u001b[0;31m---------------------------------------------------------------------------\u001b[0m",
      "\u001b[0;31mFileNotFoundError\u001b[0m                         Traceback (most recent call last)",
      "Input \u001b[0;32mIn [25]\u001b[0m, in \u001b[0;36m<cell line: 2>\u001b[0;34m()\u001b[0m\n\u001b[1;32m      1\u001b[0m \u001b[38;5;66;03m# load data from a CSV file into a DataFrame\u001b[39;00m\n\u001b[0;32m----> 2\u001b[0m df_csv \u001b[38;5;241m=\u001b[39m \u001b[43mpd\u001b[49m\u001b[38;5;241;43m.\u001b[39;49m\u001b[43mread_csv\u001b[49m\u001b[43m(\u001b[49m\u001b[38;5;124;43m\"\u001b[39;49m\u001b[38;5;124;43mgrades.csv\u001b[39;49m\u001b[38;5;124;43m\"\u001b[39;49m\u001b[43m)\u001b[49m\n\u001b[1;32m      4\u001b[0m \u001b[38;5;28mprint\u001b[39m(df_csv)\n",
      "File \u001b[0;32m~/anaconda3/lib/python3.9/site-packages/pandas/util/_decorators.py:311\u001b[0m, in \u001b[0;36mdeprecate_nonkeyword_arguments.<locals>.decorate.<locals>.wrapper\u001b[0;34m(*args, **kwargs)\u001b[0m\n\u001b[1;32m    305\u001b[0m \u001b[38;5;28;01mif\u001b[39;00m \u001b[38;5;28mlen\u001b[39m(args) \u001b[38;5;241m>\u001b[39m num_allow_args:\n\u001b[1;32m    306\u001b[0m     warnings\u001b[38;5;241m.\u001b[39mwarn(\n\u001b[1;32m    307\u001b[0m         msg\u001b[38;5;241m.\u001b[39mformat(arguments\u001b[38;5;241m=\u001b[39marguments),\n\u001b[1;32m    308\u001b[0m         \u001b[38;5;167;01mFutureWarning\u001b[39;00m,\n\u001b[1;32m    309\u001b[0m         stacklevel\u001b[38;5;241m=\u001b[39mstacklevel,\n\u001b[1;32m    310\u001b[0m     )\n\u001b[0;32m--> 311\u001b[0m \u001b[38;5;28;01mreturn\u001b[39;00m \u001b[43mfunc\u001b[49m\u001b[43m(\u001b[49m\u001b[38;5;241;43m*\u001b[39;49m\u001b[43margs\u001b[49m\u001b[43m,\u001b[49m\u001b[43m \u001b[49m\u001b[38;5;241;43m*\u001b[39;49m\u001b[38;5;241;43m*\u001b[39;49m\u001b[43mkwargs\u001b[49m\u001b[43m)\u001b[49m\n",
      "File \u001b[0;32m~/anaconda3/lib/python3.9/site-packages/pandas/io/parsers/readers.py:680\u001b[0m, in \u001b[0;36mread_csv\u001b[0;34m(filepath_or_buffer, sep, delimiter, header, names, index_col, usecols, squeeze, prefix, mangle_dupe_cols, dtype, engine, converters, true_values, false_values, skipinitialspace, skiprows, skipfooter, nrows, na_values, keep_default_na, na_filter, verbose, skip_blank_lines, parse_dates, infer_datetime_format, keep_date_col, date_parser, dayfirst, cache_dates, iterator, chunksize, compression, thousands, decimal, lineterminator, quotechar, quoting, doublequote, escapechar, comment, encoding, encoding_errors, dialect, error_bad_lines, warn_bad_lines, on_bad_lines, delim_whitespace, low_memory, memory_map, float_precision, storage_options)\u001b[0m\n\u001b[1;32m    665\u001b[0m kwds_defaults \u001b[38;5;241m=\u001b[39m _refine_defaults_read(\n\u001b[1;32m    666\u001b[0m     dialect,\n\u001b[1;32m    667\u001b[0m     delimiter,\n\u001b[0;32m   (...)\u001b[0m\n\u001b[1;32m    676\u001b[0m     defaults\u001b[38;5;241m=\u001b[39m{\u001b[38;5;124m\"\u001b[39m\u001b[38;5;124mdelimiter\u001b[39m\u001b[38;5;124m\"\u001b[39m: \u001b[38;5;124m\"\u001b[39m\u001b[38;5;124m,\u001b[39m\u001b[38;5;124m\"\u001b[39m},\n\u001b[1;32m    677\u001b[0m )\n\u001b[1;32m    678\u001b[0m kwds\u001b[38;5;241m.\u001b[39mupdate(kwds_defaults)\n\u001b[0;32m--> 680\u001b[0m \u001b[38;5;28;01mreturn\u001b[39;00m \u001b[43m_read\u001b[49m\u001b[43m(\u001b[49m\u001b[43mfilepath_or_buffer\u001b[49m\u001b[43m,\u001b[49m\u001b[43m \u001b[49m\u001b[43mkwds\u001b[49m\u001b[43m)\u001b[49m\n",
      "File \u001b[0;32m~/anaconda3/lib/python3.9/site-packages/pandas/io/parsers/readers.py:575\u001b[0m, in \u001b[0;36m_read\u001b[0;34m(filepath_or_buffer, kwds)\u001b[0m\n\u001b[1;32m    572\u001b[0m _validate_names(kwds\u001b[38;5;241m.\u001b[39mget(\u001b[38;5;124m\"\u001b[39m\u001b[38;5;124mnames\u001b[39m\u001b[38;5;124m\"\u001b[39m, \u001b[38;5;28;01mNone\u001b[39;00m))\n\u001b[1;32m    574\u001b[0m \u001b[38;5;66;03m# Create the parser.\u001b[39;00m\n\u001b[0;32m--> 575\u001b[0m parser \u001b[38;5;241m=\u001b[39m \u001b[43mTextFileReader\u001b[49m\u001b[43m(\u001b[49m\u001b[43mfilepath_or_buffer\u001b[49m\u001b[43m,\u001b[49m\u001b[43m \u001b[49m\u001b[38;5;241;43m*\u001b[39;49m\u001b[38;5;241;43m*\u001b[39;49m\u001b[43mkwds\u001b[49m\u001b[43m)\u001b[49m\n\u001b[1;32m    577\u001b[0m \u001b[38;5;28;01mif\u001b[39;00m chunksize \u001b[38;5;129;01mor\u001b[39;00m iterator:\n\u001b[1;32m    578\u001b[0m     \u001b[38;5;28;01mreturn\u001b[39;00m parser\n",
      "File \u001b[0;32m~/anaconda3/lib/python3.9/site-packages/pandas/io/parsers/readers.py:933\u001b[0m, in \u001b[0;36mTextFileReader.__init__\u001b[0;34m(self, f, engine, **kwds)\u001b[0m\n\u001b[1;32m    930\u001b[0m     \u001b[38;5;28mself\u001b[39m\u001b[38;5;241m.\u001b[39moptions[\u001b[38;5;124m\"\u001b[39m\u001b[38;5;124mhas_index_names\u001b[39m\u001b[38;5;124m\"\u001b[39m] \u001b[38;5;241m=\u001b[39m kwds[\u001b[38;5;124m\"\u001b[39m\u001b[38;5;124mhas_index_names\u001b[39m\u001b[38;5;124m\"\u001b[39m]\n\u001b[1;32m    932\u001b[0m \u001b[38;5;28mself\u001b[39m\u001b[38;5;241m.\u001b[39mhandles: IOHandles \u001b[38;5;241m|\u001b[39m \u001b[38;5;28;01mNone\u001b[39;00m \u001b[38;5;241m=\u001b[39m \u001b[38;5;28;01mNone\u001b[39;00m\n\u001b[0;32m--> 933\u001b[0m \u001b[38;5;28mself\u001b[39m\u001b[38;5;241m.\u001b[39m_engine \u001b[38;5;241m=\u001b[39m \u001b[38;5;28;43mself\u001b[39;49m\u001b[38;5;241;43m.\u001b[39;49m\u001b[43m_make_engine\u001b[49m\u001b[43m(\u001b[49m\u001b[43mf\u001b[49m\u001b[43m,\u001b[49m\u001b[43m \u001b[49m\u001b[38;5;28;43mself\u001b[39;49m\u001b[38;5;241;43m.\u001b[39;49m\u001b[43mengine\u001b[49m\u001b[43m)\u001b[49m\n",
      "File \u001b[0;32m~/anaconda3/lib/python3.9/site-packages/pandas/io/parsers/readers.py:1217\u001b[0m, in \u001b[0;36mTextFileReader._make_engine\u001b[0;34m(self, f, engine)\u001b[0m\n\u001b[1;32m   1213\u001b[0m     mode \u001b[38;5;241m=\u001b[39m \u001b[38;5;124m\"\u001b[39m\u001b[38;5;124mrb\u001b[39m\u001b[38;5;124m\"\u001b[39m\n\u001b[1;32m   1214\u001b[0m \u001b[38;5;66;03m# error: No overload variant of \"get_handle\" matches argument types\u001b[39;00m\n\u001b[1;32m   1215\u001b[0m \u001b[38;5;66;03m# \"Union[str, PathLike[str], ReadCsvBuffer[bytes], ReadCsvBuffer[str]]\"\u001b[39;00m\n\u001b[1;32m   1216\u001b[0m \u001b[38;5;66;03m# , \"str\", \"bool\", \"Any\", \"Any\", \"Any\", \"Any\", \"Any\"\u001b[39;00m\n\u001b[0;32m-> 1217\u001b[0m \u001b[38;5;28mself\u001b[39m\u001b[38;5;241m.\u001b[39mhandles \u001b[38;5;241m=\u001b[39m \u001b[43mget_handle\u001b[49m\u001b[43m(\u001b[49m\u001b[43m  \u001b[49m\u001b[38;5;66;43;03m# type: ignore[call-overload]\u001b[39;49;00m\n\u001b[1;32m   1218\u001b[0m \u001b[43m    \u001b[49m\u001b[43mf\u001b[49m\u001b[43m,\u001b[49m\n\u001b[1;32m   1219\u001b[0m \u001b[43m    \u001b[49m\u001b[43mmode\u001b[49m\u001b[43m,\u001b[49m\n\u001b[1;32m   1220\u001b[0m \u001b[43m    \u001b[49m\u001b[43mencoding\u001b[49m\u001b[38;5;241;43m=\u001b[39;49m\u001b[38;5;28;43mself\u001b[39;49m\u001b[38;5;241;43m.\u001b[39;49m\u001b[43moptions\u001b[49m\u001b[38;5;241;43m.\u001b[39;49m\u001b[43mget\u001b[49m\u001b[43m(\u001b[49m\u001b[38;5;124;43m\"\u001b[39;49m\u001b[38;5;124;43mencoding\u001b[39;49m\u001b[38;5;124;43m\"\u001b[39;49m\u001b[43m,\u001b[49m\u001b[43m \u001b[49m\u001b[38;5;28;43;01mNone\u001b[39;49;00m\u001b[43m)\u001b[49m\u001b[43m,\u001b[49m\n\u001b[1;32m   1221\u001b[0m \u001b[43m    \u001b[49m\u001b[43mcompression\u001b[49m\u001b[38;5;241;43m=\u001b[39;49m\u001b[38;5;28;43mself\u001b[39;49m\u001b[38;5;241;43m.\u001b[39;49m\u001b[43moptions\u001b[49m\u001b[38;5;241;43m.\u001b[39;49m\u001b[43mget\u001b[49m\u001b[43m(\u001b[49m\u001b[38;5;124;43m\"\u001b[39;49m\u001b[38;5;124;43mcompression\u001b[39;49m\u001b[38;5;124;43m\"\u001b[39;49m\u001b[43m,\u001b[49m\u001b[43m \u001b[49m\u001b[38;5;28;43;01mNone\u001b[39;49;00m\u001b[43m)\u001b[49m\u001b[43m,\u001b[49m\n\u001b[1;32m   1222\u001b[0m \u001b[43m    \u001b[49m\u001b[43mmemory_map\u001b[49m\u001b[38;5;241;43m=\u001b[39;49m\u001b[38;5;28;43mself\u001b[39;49m\u001b[38;5;241;43m.\u001b[39;49m\u001b[43moptions\u001b[49m\u001b[38;5;241;43m.\u001b[39;49m\u001b[43mget\u001b[49m\u001b[43m(\u001b[49m\u001b[38;5;124;43m\"\u001b[39;49m\u001b[38;5;124;43mmemory_map\u001b[39;49m\u001b[38;5;124;43m\"\u001b[39;49m\u001b[43m,\u001b[49m\u001b[43m \u001b[49m\u001b[38;5;28;43;01mFalse\u001b[39;49;00m\u001b[43m)\u001b[49m\u001b[43m,\u001b[49m\n\u001b[1;32m   1223\u001b[0m \u001b[43m    \u001b[49m\u001b[43mis_text\u001b[49m\u001b[38;5;241;43m=\u001b[39;49m\u001b[43mis_text\u001b[49m\u001b[43m,\u001b[49m\n\u001b[1;32m   1224\u001b[0m \u001b[43m    \u001b[49m\u001b[43merrors\u001b[49m\u001b[38;5;241;43m=\u001b[39;49m\u001b[38;5;28;43mself\u001b[39;49m\u001b[38;5;241;43m.\u001b[39;49m\u001b[43moptions\u001b[49m\u001b[38;5;241;43m.\u001b[39;49m\u001b[43mget\u001b[49m\u001b[43m(\u001b[49m\u001b[38;5;124;43m\"\u001b[39;49m\u001b[38;5;124;43mencoding_errors\u001b[39;49m\u001b[38;5;124;43m\"\u001b[39;49m\u001b[43m,\u001b[49m\u001b[43m \u001b[49m\u001b[38;5;124;43m\"\u001b[39;49m\u001b[38;5;124;43mstrict\u001b[39;49m\u001b[38;5;124;43m\"\u001b[39;49m\u001b[43m)\u001b[49m\u001b[43m,\u001b[49m\n\u001b[1;32m   1225\u001b[0m \u001b[43m    \u001b[49m\u001b[43mstorage_options\u001b[49m\u001b[38;5;241;43m=\u001b[39;49m\u001b[38;5;28;43mself\u001b[39;49m\u001b[38;5;241;43m.\u001b[39;49m\u001b[43moptions\u001b[49m\u001b[38;5;241;43m.\u001b[39;49m\u001b[43mget\u001b[49m\u001b[43m(\u001b[49m\u001b[38;5;124;43m\"\u001b[39;49m\u001b[38;5;124;43mstorage_options\u001b[39;49m\u001b[38;5;124;43m\"\u001b[39;49m\u001b[43m,\u001b[49m\u001b[43m \u001b[49m\u001b[38;5;28;43;01mNone\u001b[39;49;00m\u001b[43m)\u001b[49m\u001b[43m,\u001b[49m\n\u001b[1;32m   1226\u001b[0m \u001b[43m\u001b[49m\u001b[43m)\u001b[49m\n\u001b[1;32m   1227\u001b[0m \u001b[38;5;28;01massert\u001b[39;00m \u001b[38;5;28mself\u001b[39m\u001b[38;5;241m.\u001b[39mhandles \u001b[38;5;129;01mis\u001b[39;00m \u001b[38;5;129;01mnot\u001b[39;00m \u001b[38;5;28;01mNone\u001b[39;00m\n\u001b[1;32m   1228\u001b[0m f \u001b[38;5;241m=\u001b[39m \u001b[38;5;28mself\u001b[39m\u001b[38;5;241m.\u001b[39mhandles\u001b[38;5;241m.\u001b[39mhandle\n",
      "File \u001b[0;32m~/anaconda3/lib/python3.9/site-packages/pandas/io/common.py:789\u001b[0m, in \u001b[0;36mget_handle\u001b[0;34m(path_or_buf, mode, encoding, compression, memory_map, is_text, errors, storage_options)\u001b[0m\n\u001b[1;32m    784\u001b[0m \u001b[38;5;28;01melif\u001b[39;00m \u001b[38;5;28misinstance\u001b[39m(handle, \u001b[38;5;28mstr\u001b[39m):\n\u001b[1;32m    785\u001b[0m     \u001b[38;5;66;03m# Check whether the filename is to be opened in binary mode.\u001b[39;00m\n\u001b[1;32m    786\u001b[0m     \u001b[38;5;66;03m# Binary mode does not support 'encoding' and 'newline'.\u001b[39;00m\n\u001b[1;32m    787\u001b[0m     \u001b[38;5;28;01mif\u001b[39;00m ioargs\u001b[38;5;241m.\u001b[39mencoding \u001b[38;5;129;01mand\u001b[39;00m \u001b[38;5;124m\"\u001b[39m\u001b[38;5;124mb\u001b[39m\u001b[38;5;124m\"\u001b[39m \u001b[38;5;129;01mnot\u001b[39;00m \u001b[38;5;129;01min\u001b[39;00m ioargs\u001b[38;5;241m.\u001b[39mmode:\n\u001b[1;32m    788\u001b[0m         \u001b[38;5;66;03m# Encoding\u001b[39;00m\n\u001b[0;32m--> 789\u001b[0m         handle \u001b[38;5;241m=\u001b[39m \u001b[38;5;28;43mopen\u001b[39;49m\u001b[43m(\u001b[49m\n\u001b[1;32m    790\u001b[0m \u001b[43m            \u001b[49m\u001b[43mhandle\u001b[49m\u001b[43m,\u001b[49m\n\u001b[1;32m    791\u001b[0m \u001b[43m            \u001b[49m\u001b[43mioargs\u001b[49m\u001b[38;5;241;43m.\u001b[39;49m\u001b[43mmode\u001b[49m\u001b[43m,\u001b[49m\n\u001b[1;32m    792\u001b[0m \u001b[43m            \u001b[49m\u001b[43mencoding\u001b[49m\u001b[38;5;241;43m=\u001b[39;49m\u001b[43mioargs\u001b[49m\u001b[38;5;241;43m.\u001b[39;49m\u001b[43mencoding\u001b[49m\u001b[43m,\u001b[49m\n\u001b[1;32m    793\u001b[0m \u001b[43m            \u001b[49m\u001b[43merrors\u001b[49m\u001b[38;5;241;43m=\u001b[39;49m\u001b[43merrors\u001b[49m\u001b[43m,\u001b[49m\n\u001b[1;32m    794\u001b[0m \u001b[43m            \u001b[49m\u001b[43mnewline\u001b[49m\u001b[38;5;241;43m=\u001b[39;49m\u001b[38;5;124;43m\"\u001b[39;49m\u001b[38;5;124;43m\"\u001b[39;49m\u001b[43m,\u001b[49m\n\u001b[1;32m    795\u001b[0m \u001b[43m        \u001b[49m\u001b[43m)\u001b[49m\n\u001b[1;32m    796\u001b[0m     \u001b[38;5;28;01melse\u001b[39;00m:\n\u001b[1;32m    797\u001b[0m         \u001b[38;5;66;03m# Binary mode\u001b[39;00m\n\u001b[1;32m    798\u001b[0m         handle \u001b[38;5;241m=\u001b[39m \u001b[38;5;28mopen\u001b[39m(handle, ioargs\u001b[38;5;241m.\u001b[39mmode)\n",
      "\u001b[0;31mFileNotFoundError\u001b[0m: [Errno 2] No such file or directory: 'grades.csv'"
     ]
    }
   ],
   "source": [
    "# load data from a CSV file into a DataFrame\n",
    "df_csv = pd.read_csv(\"grades.csv\")\n",
    "\n",
    "print(df_csv)"
   ]
  },
  {
   "cell_type": "code",
   "execution_count": null,
   "id": "50f1c973-fb8e-453b-8c7b-b7184f211425",
   "metadata": {},
   "outputs": [],
   "source": [
    "# load data from a JSON file into a DataFrame\n",
    "df_json = pd.read_json(\"grades.json\")\n",
    "\n",
    "print(df_json)"
   ]
  },
  {
   "cell_type": "markdown",
   "id": "92201ab3-9c96-468c-bdaf-9d5e1d4e79aa",
   "metadata": {},
   "source": [
    "If we have a large file, instead of using `print()`, we can use `to_string()`. \n",
    "\n",
    "Pandas will only return the first 5 rows, and the last 5 rows. *"
   ]
  },
  {
   "cell_type": "code",
   "execution_count": null,
   "id": "059bc562-12f5-43ae-a435-952a8a6805e6",
   "metadata": {},
   "outputs": [],
   "source": [
    "# print a DataFrame with to_string()\n",
    "\n",
    "print(df_csv.to_string())"
   ]
  },
  {
   "cell_type": "markdown",
   "id": "9d5b62ef-8a7d-4e15-a97a-02aebc3311be",
   "metadata": {},
   "source": [
    "#### head\n",
    "\n",
    "The `head()` function returns the headers and a specified number of rows, starting from the top."
   ]
  },
  {
   "cell_type": "code",
   "execution_count": null,
   "id": "b151d5c1-a66b-4789-9e64-94310f2e9df4",
   "metadata": {},
   "outputs": [],
   "source": [
    "# print the first 3 rows of the CSV DataFrame\n",
    "print(df_csv.head(3))\n",
    "\n",
    "print()\n",
    "\n",
    "# print the first 4 rows of the JSON DataFrame\n",
    "print(df_json.head(4))"
   ]
  },
  {
   "cell_type": "markdown",
   "id": "7af9f597-5162-46c7-8c4f-197d9480b737",
   "metadata": {},
   "source": [
    "#### tail\n",
    "\n",
    "The `tail()` function returns the headers and a specified number of rows, starting from the end."
   ]
  },
  {
   "cell_type": "code",
   "execution_count": null,
   "id": "552c79ca-d6d1-4f0f-8bc0-cc188c9821f8",
   "metadata": {},
   "outputs": [],
   "source": [
    "# print the last 3 rows of the CSV DataFrame\n",
    "print(df_csv.tail(3))\n",
    "p\n",
    "# print the last 4 rows of the JSON DataFrame\n",
    "print(df_json.tail(4))"
   ]
  },
  {
   "cell_type": "markdown",
   "id": "e9530b9d-3f15-4d48-a1f4-95be68c543cf",
   "metadata": {},
   "source": [
    "#### info\n",
    "\n",
    "The `info()` function gives you more information about the data set."
   ]
  },
  {
   "cell_type": "code",
   "execution_count": null,
   "id": "a58b4101-2ec8-4fcd-95a5-396dc89b1a4c",
   "metadata": {
    "scrolled": true
   },
   "outputs": [],
   "source": [
    "# print more information about the CSV DataFrame\n",
    "print(df_csv.info())\n",
    "\n",
    "print()\n",
    "\n",
    "# print more information about the JSON DataFrame\n",
    "print(df_json.info())"
   ]
  }
 ],
 "metadata": {
  "celltoolbar": "Tags",
  "kernelspec": {
   "display_name": "Python 3 (ipykernel)",
   "language": "python",
   "name": "python3"
  },
  "language_info": {
   "codemirror_mode": {
    "name": "ipython",
    "version": 3
   },
   "file_extension": ".py",
   "mimetype": "text/x-python",
   "name": "python",
   "nbconvert_exporter": "python",
   "pygments_lexer": "ipython3",
   "version": "3.9.12"
  }
 },
 "nbformat": 4,
 "nbformat_minor": 5
}
